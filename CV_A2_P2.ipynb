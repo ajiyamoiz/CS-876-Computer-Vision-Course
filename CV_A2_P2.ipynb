{
  "nbformat": 4,
  "nbformat_minor": 0,
  "metadata": {
    "colab": {
      "provenance": [],
      "authorship_tag": "ABX9TyN88fxEEf5anrsylBACR65I"
    },
    "kernelspec": {
      "name": "python3",
      "display_name": "Python 3"
    },
    "language_info": {
      "name": "python"
    }
  },
  "cells": [
    {
      "cell_type": "markdown",
      "source": [
        "# Problem 2. [50 points]\n",
        "Given\n",
        "*   two images of a plane\n",
        "*   taken by two cameras with\n",
        "1.   non-zero translation between them\n",
        "2.   and arbitrary orientations"
      ],
      "metadata": {
        "id": "yZbEB7b9ttV-"
      }
    },
    {
      "cell_type": "markdown",
      "source": [
        "## a. [10 points]\n",
        "Algebraically prove that the images are related by a 2D homography (i.e. a 2D projective transformation).\n"
      ],
      "metadata": {
        "id": "ChF3oAI9uGf6"
      }
    },
    {
      "cell_type": "markdown",
      "source": [
        "\n",
        "\n",
        "```\n",
        "A 2D homography is a projective transformation that relates two images of the same planar object. It can be represented by a 3x3 matrix H, such that for any point (x, y) in the first image, the corresponding point (x', y') in the second image is given by:\n",
        "\n",
        "x' = (h_11 * x + h_12 * y + h_13) / (h_31 * x + h_32 * y + h_33)\n",
        "y' = (h_21 * x + h_22 * y + h_23) / (h_31 * x + h_32 * y + h_33)\n",
        "\n",
        "To prove that the images are related by a 2D homography, we need to find the matrix H that satisfies these equations for a set of corresponding points (x, y) and (x', y').\n",
        "\n",
        "One way to do this is to use the Direct Linear Transformation (DLT) algorithm, which determines the matrix H by solving a system of linear equations. Specifically, for each pair of corresponding points (x, y) and (x', y'), we can create two equations of the form:\n",
        "\n",
        "h_11 * x + h_12 * y + h_13 = (h_31 * x + h_32 * y + h_33) * x'\n",
        "h_21 * x + h_22 * y + h_23 = (h_31 * x + h_32 * y + h_33) * y'\n",
        "\n",
        "If we have at least four pairs of corresponding points, we can use these equations to solve for the entries of H. This can be done using a variety of methods, such as the Gauss-Jordan elimination or singular value decomposition.\n",
        "\n",
        "Once we have found the matrix H that satisfies these equations, we can conclude that the images are related by a 2D homography.\n",
        "```\n",
        "\n"
      ],
      "metadata": {
        "id": "ftTTN6Qh0Hnu"
      }
    },
    {
      "cell_type": "markdown",
      "source": [
        "## b. [40 points]\n",
        "Use MATLAB/Python to simulate\n",
        "### i. [5 points]\n",
        "A set of at least a 100 random points on a randomly-oriented 3D plane.\n",
        "Show that your generated points are indeed on a plane."
      ],
      "metadata": {
        "id": "MFJqv75QuLBy"
      }
    },
    {
      "cell_type": "code",
      "source": [
        "!pip install git+https://github.com/smidm/camera.py.git"
      ],
      "metadata": {
        "colab": {
          "base_uri": "https://localhost:8080/"
        },
        "id": "iRAsiA0NBciv",
        "outputId": "79df53eb-a9d8-42bd-af00-98ea3a38d55a"
      },
      "execution_count": null,
      "outputs": [
        {
          "output_type": "stream",
          "name": "stdout",
          "text": [
            "Looking in indexes: https://pypi.org/simple, https://us-python.pkg.dev/colab-wheels/public/simple/\n",
            "Collecting git+https://github.com/smidm/camera.py.git\n",
            "  Cloning https://github.com/smidm/camera.py.git to /tmp/pip-req-build-61m27rrw\n",
            "  Running command git clone -q https://github.com/smidm/camera.py.git /tmp/pip-req-build-61m27rrw\n",
            "Requirement already satisfied: pyyaml in /usr/local/lib/python3.8/dist-packages (from Camera==0.1) (6.0)\n",
            "Requirement already satisfied: numpy in /usr/local/lib/python3.8/dist-packages (from Camera==0.1) (1.21.6)\n",
            "Requirement already satisfied: matplotlib in /usr/local/lib/python3.8/dist-packages (from Camera==0.1) (3.2.2)\n",
            "Requirement already satisfied: scipy in /usr/local/lib/python3.8/dist-packages (from Camera==0.1) (1.7.3)\n",
            "Requirement already satisfied: python-dateutil>=2.1 in /usr/local/lib/python3.8/dist-packages (from matplotlib->Camera==0.1) (2.8.2)\n",
            "Requirement already satisfied: cycler>=0.10 in /usr/local/lib/python3.8/dist-packages (from matplotlib->Camera==0.1) (0.11.0)\n",
            "Requirement already satisfied: kiwisolver>=1.0.1 in /usr/local/lib/python3.8/dist-packages (from matplotlib->Camera==0.1) (1.4.4)\n",
            "Requirement already satisfied: pyparsing!=2.0.4,!=2.1.2,!=2.1.6,>=2.0.1 in /usr/local/lib/python3.8/dist-packages (from matplotlib->Camera==0.1) (3.0.9)\n",
            "Requirement already satisfied: six>=1.5 in /usr/local/lib/python3.8/dist-packages (from python-dateutil>=2.1->matplotlib->Camera==0.1) (1.15.0)\n"
          ]
        }
      ]
    },
    {
      "cell_type": "code",
      "source": [
        "#Import libraries\n",
        "\n",
        "from __future__ import division\n",
        "import numpy as np\n",
        "import matplotlib.pyplot as plt\n",
        "from mpl_toolkits.mplot3d import Axes3D\n",
        "\n",
        "import camera\n",
        "import math\n",
        "import cv2"
      ],
      "metadata": {
        "id": "74gQgtZrvRHV"
      },
      "execution_count": null,
      "outputs": []
    },
    {
      "cell_type": "code",
      "source": [
        "#Number of hyperplanes\n",
        "n = 1\n",
        "#Dimension of space\n",
        "d = 3\n",
        "i = 0\n",
        "plt3d = plt.figure().gca(projection='3d')\n",
        "\n",
        "for i in range(n):\n",
        "    #Create random point on unit sphere\n",
        "    v = np.random.normal(size = d)\n",
        "    v = v/np.sqrt(np.sum(v**2))\n",
        "\n",
        "    # create x,y\n",
        "    x, y = np.random.uniform(0,10,100), np.random.uniform(0,10,100)\n",
        "    xx = x.flatten()\n",
        "    yy = y.flatten()\n",
        "    z = (-v[0] * xx - v[1] * yy)/v[2]\n",
        "\n",
        "    # plot the surface\n",
        "    plt3d.scatter(xx, yy, z)\n",
        "    plt3d.plot_trisurf(xx, yy, z, color='white')\n",
        "\n",
        "plt.show()"
      ],
      "metadata": {
        "colab": {
          "base_uri": "https://localhost:8080/",
          "height": 248
        },
        "id": "os-K5qQUqUOv",
        "outputId": "c4ef54a1-6897-41fa-d13b-bebfe9de8df1"
      },
      "execution_count": null,
      "outputs": [
        {
          "output_type": "display_data",
          "data": {
            "text/plain": [
              "<Figure size 432x288 with 1 Axes>"
            ],
            "image/png": "[encoded data removed]"
          },
          "metadata": {
            "needs_background": "light"
          }
        }
      ]
    },
    {
      "cell_type": "markdown",
      "source": [
        "## Or"
      ],
      "metadata": {
        "id": "yJ-b7BnsxuYR"
      }
    },
    {
      "cell_type": "code",
      "source": [
        "pip install random-geometry-points"
      ],
      "metadata": {
        "colab": {
          "base_uri": "https://localhost:8080/"
        },
        "id": "ey1x96N3rD42",
        "outputId": "2e38ae76-6672-45d4-9e06-f4c45e2109bc"
      },
      "execution_count": null,
      "outputs": [
        {
          "output_type": "stream",
          "name": "stdout",
          "text": [
            "Looking in indexes: https://pypi.org/simple, https://us-python.pkg.dev/colab-wheels/public/simple/\n",
            "Requirement already satisfied: random-geometry-points in /usr/local/lib/python3.8/dist-packages (1.1.2)\n"
          ]
        }
      ]
    },
    {
      "cell_type": "code",
      "source": [
        "from random_geometry_points.plane import Plane\n",
        "\n",
        "# create a plane object with n = (1, 0, 0), x0 = (0, 0, 0), d = 0 and radius = 10\n",
        "normal_vec = (1.0, 0.0, 0.0)\n",
        "ref_point = (0.0, 0.0, 0.0)\n",
        "plane = Plane(normal_vec, 0.0, ref_point, 10.0)\n",
        "\n",
        "# create and print 100 random points lying on the plane\n",
        "random_plane_points = plane.create_random_points(100)\n",
        "print(random_plane_points)\n",
        "# example output: [(0.0, -2.058506783308933, -5.777518695971468), (0.0, 2.501766732323411, 6.740902158795952), (0.0, 7.846400008799242, 5.304670974614023)]"
      ],
      "metadata": {
        "colab": {
          "base_uri": "https://localhost:8080/"
        },
        "id": "SX6TqNuWtVap",
        "outputId": "b6a4143f-74f0-4cb6-c2c5-ef12362f6320"
      },
      "execution_count": null,
      "outputs": [
        {
          "output_type": "stream",
          "name": "stdout",
          "text": [
            "[(0.0, 2.239390713552963, -4.605247138779652), (0.0, 0.14244241487169618, 2.35460733760713), (0.0, -3.052693844745673, 7.756175489754256), (0.0, -9.020528487640838, 3.5358654502581692), (0.0, 0.17737073789623573, -1.7450638677391717), (0.0, -7.571476447130718, -2.661995778063587), (0.0, 3.102581625135913, -4.842765577156578), (0.0, -0.28011358230772926, -0.37544851893204967), (0.0, -5.536470339420751, 0.49823148749954727), (0.0, -2.455317959172445, -3.826570208464804), (0.0, -5.7815247447903815, 3.6454000664029906), (0.0, -0.3971375031274448, -0.4215296209861751), (0.0, 1.2913524805132701, 0.9291052426919412), (0.0, 6.334473258168322, 3.679749580641278), (0.0, 1.453765937741896, 1.4009933432262325), (0.0, 3.8886262208996536, 1.910215461617824), (0.0, 1.4481394362801512, -5.589008337287738), (0.0, 0.21658213101998505, 1.513639411021092), (0.0, -0.21879115002493854, -8.242469179098746), (0.0, 0.3707146930856776, -0.529333068753143), (0.0, -0.014240639795930989, -1.4697116395658774), (0.0, -5.8548353411213, -1.4465949408504504), (0.0, 5.934493867185941, 5.542934376300935), (0.0, -8.00812036802953, 2.8815977280495226), (0.0, -8.943008557291792, -3.6914169742164957), (0.0, -3.0263075853497416, -2.307687775582997), (0.0, -0.3368732476026371, 0.7966677208036353), (0.0, 0.07638694209766114, -2.7768193426027095), (0.0, 8.925352642212586, 1.6506714181812867), (0.0, 4.986239071511942, 7.276658287281446), (0.0, 4.981350942178308, 7.301682786069768), (0.0, 4.775410345715518, 2.2919116262828427), (0.0, -3.0816771807280197, -2.454521966317066), (0.0, 0.23094207098286543, 5.381690435108768), (0.0, 1.469709790464249, -0.5640043964505126), (0.0, 4.370676588173981, 1.7131148541353383), (0.0, -1.3665894346533376, 0.3057011488109564), (0.0, -2.462478315530745, 2.5966226390787854), (0.0, 0.6693559308390487, 0.5979049864812866), (0.0, 6.237572903050993, 1.116888257045436), (0.0, -4.238371655138153, 4.014573906556684), (0.0, 0.06472974808613055, 2.254879656191485), (0.0, 5.09434984270246, -4.616788114461421), (0.0, 0.20638929910912526, -2.6220049695039216), (0.0, -2.0032625988152857, -2.3451284339947867), (0.0, 0.3030620911745176, 2.370824897436062), (0.0, 0.23094477165411703, -1.4360973617670325), (0.0, -4.898259908648009, -0.6536390364492441), (0.0, -4.270282634681059, -6.232221007993045), (0.0, 0.47099967549381777, -1.7671029809367507), (0.0, 2.578239924377957, 2.9402455538509025), (0.0, 6.171903863195324, -6.123225637886086), (0.0, -3.0277416274076763, -0.7050778891130923), (0.0, 0.3624243760984471, -0.22819064996106378), (0.0, 7.0962834079000405, 1.3416638529052016), (0.0, -2.530089729326152, 3.7860292798575452), (0.0, -1.8358490159703151, -1.2362745203373773), (0.0, -5.8234480731566265, 6.965038539446032), (0.0, 0.04596994306766168, 5.489164166303984), (0.0, 0.3974780364739937, 9.154656803249921), (0.0, -2.8106104463864114, 2.575899638993742), (0.0, -2.002134700401098, 1.453389861045463), (0.0, -1.058423657299999, 0.740937510212322), (0.0, -0.795553714860219, 0.6850273336533562), (0.0, 6.986844074641598, 3.2969051262331592), (0.0, -5.329599499730861, -0.8717699259096359), (0.0, -6.649650818165638e-05, -0.17024408343134884), (0.0, -1.8261968216983013, -0.5313531550708788), (0.0, 1.663138198703312, 0.06991689681199544), (0.0, 1.5600337724474302, 3.746924367577538), (0.0, -5.707527173304229, 6.0594924902026195), (0.0, 0.7491211832479326, -1.3610409360382107), (0.0, -3.105907114061296, 7.817976891384958), (0.0, 3.237745471654916, -3.106805183085454), (0.0, -2.2020946357212, -0.009932508084535855), (0.0, 3.671151417142645, -3.960053331955535), (0.0, -2.065477953089428, -4.5309382774144815), (0.0, -5.139097516719247, -1.0569561958053542), (0.0, -3.6987557774689344, -2.6020816712202954), (0.0, -5.188390583087095, -2.849964179377814), (0.0, -4.185732441353558, 0.5618558189446268), (0.0, 6.596841763559403, 3.165424729406166), (0.0, -0.21796800918587184, -0.9069995984734921), (0.0, 5.647934434985, 5.502002131949313), (0.0, -3.0401111366372215, 1.03180879618476), (0.0, -3.8873220905046764, -1.3303426813363057), (0.0, -1.0983040795138674, 1.3049486517867093), (0.0, 2.056329960071732, -5.896525293010636), (0.0, 0.1013276815631728, -0.6851543561048443), (0.0, 2.8522162475433, 4.6642846456921765), (0.0, -3.467489224335816, 1.4136307633164333), (0.0, -6.143621782982713, 6.281228064040886), (0.0, 0.480983695293432, 0.6284828480925312), (0.0, 5.193905667442673, -7.904600603353918), (0.0, -5.393557049318951, -6.706447053569317), (0.0, -2.374790747182501, -8.137146107880449), (0.0, -0.4792254042303928, -0.15080923622314168), (0.0, 0.014017825207088027, -0.012106740843802604), (0.0, -1.3469997914418241, 6.071830119109206), (0.0, -3.36919324968189, -1.4617591190055292)]\n"
          ]
        }
      ]
    },
    {
      "cell_type": "markdown",
      "source": [
        "### ii. [5 points]\n",
        "Set up two arbitrary camera matrices.\n"
      ],
      "metadata": {
        "id": "xLIW-rsAuYSk"
      }
    },
    {
      "cell_type": "code",
      "source": [
        "## Camera 1 matrix\n",
        "\n",
        "c1 = camera.Camera()\n",
        "# Update pinhole camera intrinsic parameters and updates P matrix\n",
        "# set_K_elements(u0_px, v0_px, f=1, theta_rad=1.5707963267948966, a=1)\n",
        "c1.set_K_elements(2.0, math.pi/2, 1, 45, 1)\n",
        "\n",
        "# Set camera extrinsic parameters and updates P\n",
        "R1 = np.array(\n",
        "    [[1, 0, 0],\n",
        "     [0, 1, 0],\n",
        "     [0, 0, 1]])\n",
        "c1.set_R(R1)\n",
        "\n",
        "# Set camera translation and updates P\n",
        "c1.set_t(np.array([[1], [2], [3]]))"
      ],
      "metadata": {
        "id": "-P7Fy4B-xr35"
      },
      "execution_count": null,
      "outputs": []
    },
    {
      "cell_type": "code",
      "source": [
        "# Camera 1 center in the world coordinates\n",
        "c1.get_camera_center()"
      ],
      "metadata": {
        "colab": {
          "base_uri": "https://localhost:8080/"
        },
        "id": "mYk2oTcwr5kT",
        "outputId": "f3cba5a5-bd06-4d46-dc1c-4cd5af54981f"
      },
      "execution_count": null,
      "outputs": [
        {
          "output_type": "execute_result",
          "data": {
            "text/plain": [
              "array([[-0.25819889],\n",
              "       [-0.51639778],\n",
              "       [-0.77459667],\n",
              "       [ 0.25819889]])"
            ]
          },
          "metadata": {},
          "execution_count": 114
        }
      ]
    },
    {
      "cell_type": "code",
      "source": [
        "# Camera 1 principal point\n",
        "c1.get_principal_point_px()"
      ],
      "metadata": {
        "colab": {
          "base_uri": "https://localhost:8080/"
        },
        "id": "tFQAF678slXR",
        "outputId": "c6894158-fa4c-4df7-89e3-93b3af420f4d"
      },
      "execution_count": null,
      "outputs": [
        {
          "output_type": "execute_result",
          "data": {
            "text/plain": [
              "array([[2.        , 1.57079633]])"
            ]
          },
          "metadata": {},
          "execution_count": 115
        }
      ]
    },
    {
      "cell_type": "code",
      "source": [
        "## Camera 2 matrix\n",
        "\n",
        "c2 = camera.Camera()\n",
        "# Update pinhole camera intrinsic parameters and updates P matrix\n",
        "c2.set_K_elements(10.0, math.pi/2, 1, 45, 1)\n",
        "\n",
        "# Set camera extrinsic parameters and updates P\n",
        "R2 = np.array(\n",
        "    [[0.9, 0, 0.1],\n",
        "     [0, 1, 0],\n",
        "     [-0.1, 0, 0.9]])\n",
        "c2.set_R(R2)\n",
        "\n",
        "# Set camera translation and updates P\n",
        "c2.set_t(np.array([[3], [2], [1]]))"
      ],
      "metadata": {
        "id": "ompkQvk4yflk"
      },
      "execution_count": null,
      "outputs": []
    },
    {
      "cell_type": "code",
      "source": [
        "# Camera 2 center in the world coordinates\n",
        "c2.get_camera_center()"
      ],
      "metadata": {
        "colab": {
          "base_uri": "https://localhost:8080/"
        },
        "id": "VeL6RqFKr-Tr",
        "outputId": "5433a592-24e7-4d0b-8f64-a5364a9a120f"
      },
      "execution_count": null,
      "outputs": [
        {
          "output_type": "execute_result",
          "data": {
            "text/plain": [
              "array([[ 0.76463974],\n",
              "       [ 0.48231122],\n",
              "       [ 0.35291065],\n",
              "       [-0.24115561]])"
            ]
          },
          "metadata": {},
          "execution_count": 117
        }
      ]
    },
    {
      "cell_type": "code",
      "source": [
        "# Camera 2 principal point\n",
        "c2.get_principal_point_px()"
      ],
      "metadata": {
        "colab": {
          "base_uri": "https://localhost:8080/"
        },
        "id": "qcTwBj0Ws488",
        "outputId": "ca0dc8d2-3cda-4fa6-d75d-869350252e78"
      },
      "execution_count": null,
      "outputs": [
        {
          "output_type": "execute_result",
          "data": {
            "text/plain": [
              "array([[10.        ,  1.57079633]])"
            ]
          },
          "metadata": {},
          "execution_count": 118
        }
      ]
    },
    {
      "cell_type": "markdown",
      "source": [
        "### iii. [10 points]\n",
        "Through a script, compute the image coordinates of the 3D points on the plane using these cameras.\n"
      ],
      "metadata": {
        "id": "Wvv_qXTduc-r"
      }
    },
    {
      "cell_type": "code",
      "source": [
        "# Create an array for all the 3D random world points\n",
        "w = []\n",
        "i = 0\n",
        "j = 0\n",
        "for i in range(0,100):\n",
        "  j = np.array([[xx[i]], [yy[i]], [z[i]], [1]])\n",
        "  w.append(j)\n",
        "\n",
        "w[0]"
      ],
      "metadata": {
        "colab": {
          "base_uri": "https://localhost:8080/"
        },
        "id": "QwdjWkYRDbSF",
        "outputId": "82a469e8-a364-4f5c-a06e-c6d08375e79d"
      },
      "execution_count": null,
      "outputs": [
        {
          "output_type": "execute_result",
          "data": {
            "text/plain": [
              "array([[8.83060554],\n",
              "       [3.00403715],\n",
              "       [4.96920022],\n",
              "       [1.        ]])"
            ]
          },
          "metadata": {},
          "execution_count": 119
        }
      ]
    },
    {
      "cell_type": "code",
      "source": [
        "# Create arrays for all the 2D image points on the two image planes\n",
        "p1 = []\n",
        "p2 = []\n",
        "i = 0\n",
        "j = 0\n",
        "k = 0\n",
        "for i in range(0,100):\n",
        "  j = c1.world_to_image(w[i])\n",
        "  k = c2.world_to_image(w[i])\n",
        "#  c1.plot_world_points(w[i],'ro')\n",
        "  p1.append(j)\n",
        "  p2.append(k)"
      ],
      "metadata": {
        "id": "dZrmFaLxvSDr"
      },
      "execution_count": null,
      "outputs": []
    },
    {
      "cell_type": "code",
      "source": [
        "# Image point of camera 1\n",
        "p1[0]"
      ],
      "metadata": {
        "colab": {
          "base_uri": "https://localhost:8080/"
        },
        "id": "znHmdhTHwsCD",
        "outputId": "359ff1f6-cc83-4d88-e726-24bffa66fdf3"
      },
      "execution_count": null,
      "outputs": [
        {
          "output_type": "execute_result",
          "data": {
            "text/plain": [
              "array([[2.84591487],\n",
              "       [2.30874382],\n",
              "       [1.        ]])"
            ]
          },
          "metadata": {},
          "execution_count": 121
        }
      ]
    },
    {
      "cell_type": "code",
      "source": [
        "# Image point of camera 2\n",
        "p2[0]"
      ],
      "metadata": {
        "colab": {
          "base_uri": "https://localhost:8080/"
        },
        "id": "I-qWyG9_rq9b",
        "outputId": "7cfadeda-5ea4-498d-f17b-6f5cd2d8dcac"
      },
      "execution_count": null,
      "outputs": [
        {
          "output_type": "execute_result",
          "data": {
            "text/plain": [
              "array([[11.82059808],\n",
              "       [ 2.85224542],\n",
              "       [ 1.        ]])"
            ]
          },
          "metadata": {},
          "execution_count": 122
        }
      ]
    },
    {
      "cell_type": "code",
      "source": [
        "# x image coordinates\n",
        "px1 = []\n",
        "px2 = []\n",
        "# y image coordinates\n",
        "py1 = []\n",
        "py2 = []\n",
        "# z image coordinates\n",
        "pz1 = []\n",
        "pz2 = []\n",
        "i = 0\n",
        "for i in range(0,100):\n",
        "  j1 = p1[i][0]\n",
        "  j2 = p2[i][0]\n",
        "  k1 = p1[i][1]\n",
        "  k2 = p2[i][1]\n",
        "  l1 = p1[i][2]\n",
        "  l2 = p2[i][2]\n",
        "  px1.append(j1)\n",
        "  px2.append(j2)\n",
        "  py1.append(k1)\n",
        "  py2.append(k2)\n",
        "  pz1.append(l1)\n",
        "  pz2.append(l2)\n",
        "\n",
        "px1 = np.array(px1).flatten()\n",
        "px2 = np.array(px2).flatten()\n",
        "py1 = np.array(py1).flatten()\n",
        "py2 = np.array(py2).flatten()\n",
        "pz1 = np.array(pz1).flatten()\n",
        "pz2 = np.array(pz2).flatten()"
      ],
      "metadata": {
        "id": "dTje5Kj8tO2P"
      },
      "execution_count": null,
      "outputs": []
    },
    {
      "cell_type": "code",
      "source": [
        "fig = plt.figure()\n",
        "ax = fig.add_subplot(111,projection='3d')\n",
        "\n",
        "# 3D world plane\n",
        "ax.plot_trisurf(xx, yy, z, color='white')\n",
        "# Camera 1 image plane\n",
        "ax.plot_trisurf(px1, py1, pz1, color='blue')\n",
        "# Camera 2 image plane\n",
        "ax.plot_trisurf(px2, py2, pz2, color='red')\n",
        "\n",
        "\n",
        "plt.show()"
      ],
      "metadata": {
        "colab": {
          "base_uri": "https://localhost:8080/",
          "height": 248
        },
        "id": "4mRHfEw38MjL",
        "outputId": "07e2be7e-a58f-4276-d316-d6486f46b17c"
      },
      "execution_count": null,
      "outputs": [
        {
          "output_type": "display_data",
          "data": {
            "text/plain": [
              "<Figure size 432x288 with 1 Axes>"
            ],
            "image/png": "[encoded data removed]"
          },
          "metadata": {
            "needs_background": "light"
          }
        }
      ]
    },
    {
      "cell_type": "markdown",
      "source": [
        "### iv. [10 points]\n",
        "Use the cv2.findHomography function from this tutorial for computing homography between image points. Another technique called Direct Linear Transform, for computing homography can also be used, which gives more stable results for noisy data. DLT is described in Chapter 4 of HZ text, if you are interested, but we have not covered it in class.\n",
        "\n"
      ],
      "metadata": {
        "id": "T2GBQQjduiRm"
      }
    },
    {
      "cell_type": "code",
      "source": [
        "def find_homography(points_source, points_target):\n",
        "    A  = construct_A(points_source, points_target)\n",
        "    u, s, vh = np.linalg.svd(A, full_matrices=True)\n",
        "\n",
        "    # Solution to H is the last column of V, or last row of V transpose\n",
        "    homography = vh[-1].reshape((3,3))\n",
        "    return homography/homography[2,2]\n",
        "\n",
        "def construct_A(points_source, points_target):\n",
        "    assert points_source.shape == points_target.shape, \"Shape does not match\"\n",
        "    num_points = points_source.shape[0]\n",
        "\n",
        "    matrices = []\n",
        "    for i in range(num_points):\n",
        "        partial_A = construct_A_partial(points_source[i], points_target[i])\n",
        "        matrices.append(partial_A)\n",
        "    return np.concatenate(matrices, axis=0)\n",
        "\n",
        "def construct_A_partial(point_source, point_target):\n",
        "    x, y, z = point_source[0], point_source[1], 1\n",
        "    x_t, y_t, z_t = point_target[0], point_target[1], 1\n",
        "\n",
        "    A_partial = np.array([\n",
        "        [0, 0, 0, -z_t*x, -z_t*y, -z_t*z, y_t*x, y_t*y, y_t*z],\n",
        "        [z_t*x, z_t*y, z_t*z, 0, 0, 0, -x_t*x, -x_t*y, -x_t*z]\n",
        "    ])\n",
        "    return A_partial"
      ],
      "metadata": {
        "id": "73gOOTib4iKF"
      },
      "execution_count": null,
      "outputs": []
    },
    {
      "cell_type": "code",
      "source": [
        "# Camera 1 homography from world plane at z = 0 to image plane\n",
        "cam1 = c1.get_z0_homography()\n",
        "cam1"
      ],
      "metadata": {
        "colab": {
          "base_uri": "https://localhost:8080/"
        },
        "id": "ZJ6Zg6_Grd6g",
        "outputId": "50f55a3c-0889-4e0d-f8a2-4abe4fbb180b"
      },
      "execution_count": null,
      "outputs": [
        {
          "output_type": "execute_result",
          "data": {
            "text/plain": [
              "array([[ 1.        , -0.61736962,  5.76526075],\n",
              "       [ 0.        ,  1.17522136,  7.06283171],\n",
              "       [ 0.        ,  0.        ,  3.        ]])"
            ]
          },
          "metadata": {},
          "execution_count": 126
        }
      ]
    },
    {
      "cell_type": "code",
      "source": [
        "# Camera 2 homography from world plane at z = 0 to image plane\n",
        "cam2 = c2.get_z0_homography()\n",
        "cam2"
      ],
      "metadata": {
        "colab": {
          "base_uri": "https://localhost:8080/"
        },
        "id": "SUc_28PIx5-m",
        "outputId": "e7f59033-3c38-42df-a439-2765e224e968"
      },
      "execution_count": null,
      "outputs": [
        {
          "output_type": "execute_result",
          "data": {
            "text/plain": [
              "array([[-0.1       , -0.61736962, 11.76526075],\n",
              "       [-0.15707963,  1.17522136,  3.92123905],\n",
              "       [-0.1       ,  0.        ,  1.        ]])"
            ]
          },
          "metadata": {},
          "execution_count": 127
        }
      ]
    },
    {
      "cell_type": "markdown",
      "source": [
        "### v. [10 points]\n",
        "Now show that the two images are related by a homography i.e. the points from the first image coincide with the second image after the homography computed above. To show this, you will have to set up an error function between transformed points and original points. If they are indeed related by a homography, the error should be very low."
      ],
      "metadata": {
        "id": "dsaOq6jGuo8m"
      }
    },
    {
      "cell_type": "code",
      "execution_count": null,
      "metadata": {
        "id": "hI5OhCO2thEi",
        "colab": {
          "base_uri": "https://localhost:8080/"
        },
        "outputId": "28c98347-d93c-4a5c-df25-97e0f08348bf"
      },
      "outputs": [
        {
          "output_type": "execute_result",
          "data": {
            "text/plain": [
              "array([[ 0.9       ,  0.        , -6.        ],\n",
              "       [-0.15707963,  0.        ,  3.14159265],\n",
              "       [-0.1       ,  0.        ,  2.        ]])"
            ]
          },
          "metadata": {},
          "execution_count": 133
        }
      ],
      "source": [
        "#error = np.sqrt(np.square(cam1)) - np.sqrt(np.square(cam2))\n",
        "error = cam1 -cam2\n",
        "error"
      ]
    }
  ]
}