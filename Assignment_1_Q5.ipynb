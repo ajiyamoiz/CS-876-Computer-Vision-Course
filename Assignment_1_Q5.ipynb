{
  "cells": [
    {
      "cell_type": "markdown",
      "metadata": {
        "id": "CKRRjmhbFcx7"
      },
      "source": [
        "In this problem we will train a neural network from scratch using numpy. In practice, you will never need to do this (you'd just use TensorFlow or PyTorch). But hopefully this will give us a sense of what's happening under the hood. \n",
        "\n",
        "For training/testing, we will use the Fashion MNIST benchmark consisting of images of Fashion Item images. \n",
        "\n"
      ]
    },
    {
      "cell_type": "markdown",
      "metadata": {
        "id": "k0Zpyb4xQNu2"
      },
      "source": [
        "Autodiff enables us to implicitly store how to calculate the gradient when we call backward. We implemented some basic operations (addition, multiplication, power, and ReLU). In this homework problem, you will implement backprop for more complicated operations directly. Instead of using autodiff, you will manually compute the gradient of the loss function for each parameter."
      ]
    },
    {
      "cell_type": "code",
      "execution_count": null,
      "metadata": {
        "id": "kjvPSnDA4J_w",
        "vscode": {
          "languageId": "python"
        },
        "colab": {
          "base_uri": "https://localhost:8080/",
          "height": 411
        },
        "outputId": "12d05997-05b9-4c88-8673-40c1eb513fd9"
      },
      "outputs": [
        {
          "output_type": "stream",
          "name": "stdout",
          "text": [
            "Downloading data from https://storage.googleapis.com/tensorflow/tf-keras-datasets/train-labels-idx1-ubyte.gz\n",
            "29515/29515 [==============================] - 0s 0us/step\n",
            "Downloading data from https://storage.googleapis.com/tensorflow/tf-keras-datasets/train-images-idx3-ubyte.gz\n",
            "26421880/26421880 [==============================] - 0s 0us/step\n",
            "Downloading data from https://storage.googleapis.com/tensorflow/tf-keras-datasets/t10k-labels-idx1-ubyte.gz\n",
            "5148/5148 [==============================] - 0s 0us/step\n",
            "Downloading data from https://storage.googleapis.com/tensorflow/tf-keras-datasets/t10k-images-idx3-ubyte.gz\n",
            "4422102/4422102 [==============================] - 0s 0us/step\n"
          ]
        },
        {
          "output_type": "display_data",
          "data": {
            "text/plain": [
              "<Figure size 432x288 with 1 Axes>"
            ],
            "image/png": "[encoded data removed]"
          },
          "metadata": {
            "needs_background": "light"
          }
        }
      ],
      "source": [
        "import tensorflow as tf\n",
        "import numpy as np\n",
        "import matplotlib.pyplot as plt\n",
        "\n",
        "(x_train, y_train), (x_test, y_test) = tf.keras.datasets.fashion_mnist.load_data()\n",
        "\n",
        "plt.imshow(x_train[0],cmap='gray');"
      ]
    },
    {
      "cell_type": "markdown",
      "metadata": {
        "id": "Klx9qPmxF9jI"
      },
      "source": [
        "Loading Fashion MNIST is the only place where we will use TensorFlow; the rest of the code will be pure numpy.\n",
        "\n",
        "Let us now set up a few helper functions. We will use sigmoid activations for neurons, the softmax activation for the last layer, and the cross entropy loss."
      ]
    },
    {
      "cell_type": "code",
      "execution_count": null,
      "metadata": {
        "id": "sdyvaUKoF7ux",
        "vscode": {
          "languageId": "python"
        }
      },
      "outputs": [],
      "source": [
        "def sigmoid(x):\n",
        "  # Numerically stable sigmoid function based on\n",
        "  # http://timvieira.github.io/blog/post/2014/02/11/exp-normalize-trick/\n",
        "  \n",
        "  x = np.clip(x, -500, 500) # We get an overflow warning without this\n",
        "  \n",
        "  return np.where(\n",
        "    x >= 0,\n",
        "    1 / (1 + np.exp(-x)),\n",
        "    np.exp(x) / (1 + np.exp(x))\n",
        "  )\n",
        "\n",
        "def dsigmoid(x): # Derivative of sigmoid\n",
        "  return sigmoid(x) * (1 - sigmoid(x))\n",
        "\n",
        "def softmax(x):\n",
        "  # Numerically stable softmax based on (same source as sigmoid)\n",
        "  # http://timvieira.github.io/blog/post/2014/02/11/exp-normalize-trick/\n",
        "  b = x.max()\n",
        "  y = np.exp(x - b)\n",
        "  return y / y.sum()\n",
        "\n",
        "def cross_entropy_loss(y, yHat):\n",
        "  return -np.sum(y * np.log(yHat))\n",
        "\n",
        "def integer_to_one_hot(x, max):\n",
        "  # x: integer to convert to one hot encoding\n",
        "  # max: the size of the one hot encoded array\n",
        "  result = np.zeros(10)\n",
        "  result[x] = 1\n",
        "  return result"
      ]
    },
    {
      "cell_type": "markdown",
      "metadata": {
        "id": "_xIZEupTHyNM"
      },
      "source": [
        "OK, we are now ready to build and train our model. The input is an image of size 28x28, and the output is one of 10 classes. So, first: \n",
        "\n",
        "Q1. Initialize a 2-hidden layer neural network with 32 neurons in each hidden layer, i.e., your layer sizes should be: \n",
        "\n",
        "784 -> 32 -> 32 -> 10\n",
        "\n",
        "If the layer is $n_{in} \\times n_{out}$ your layer weights should be initialized by sampling from a normal distribution with mean zero and variance 1/$\\max(n_{in},n_{out})$."
      ]
    },
    {
      "cell_type": "code",
      "execution_count": null,
      "metadata": {
        "id": "zBeGvbu6FaM_",
        "vscode": {
          "languageId": "python"
        }
      },
      "outputs": [],
      "source": [
        "import math\n",
        "\n",
        "# Initialize weights of each layer with a normal distribution of mean 0 and\n",
        "# standard deviation 1/sqrt(n), where n is the number of inputs.\n",
        "# This means the weighted input will be a random variable itself with mean\n",
        "# 0 and standard deviation close to 1 (if biases are initialized as 0, standard\n",
        "# deviation will be exactly 1)\n",
        "\n",
        "from numpy.random import default_rng\n",
        "\n",
        "rng = default_rng(80085)\n",
        "\n",
        "# Q1. Fill initialization code here.\n",
        "# ...\n",
        "\n",
        "weights = []\n",
        "biases = []\n",
        "\n",
        "weights.append(np.random.normal(0,1/np.sqrt(784),(32, 784)))\n",
        "weights.append(np.random.normal(0,1/np.sqrt(32),(32, 32)))\n",
        "weights.append(np.random.normal(0,1/np.sqrt(32),(10, 32)))\n",
        "biases.append(np.random.randn(32,1)/np.sqrt(32))\n",
        "biases.append(np.random.randn(32,1)/np.sqrt(32))\n",
        "biases.append(np.random.randn(10,1)/np.sqrt(10))"
      ]
    },
    {
      "cell_type": "markdown",
      "metadata": {
        "id": "IafUGD_VGeLh"
      },
      "source": [
        "Next, we will set up the forward pass. We will implement this by looping over the layers and successively computing the activations of each layer. \n",
        "\n",
        "Q2. Implement the forward pass for a single sample, and for the entire dataset.\n",
        "\n",
        "\n",
        "Right now, your network weights should be random, so doing a forward pass with the data should not give you any meaningful information. Therefore, in the last line, when you calculate test accuracy, it should be somewhere around 1/10 (i.e., a random guess)."
      ]
    },
    {
      "cell_type": "code",
      "execution_count": null,
      "metadata": {
        "id": "cd6jGroQGdOF",
        "vscode": {
          "languageId": "python"
        },
        "colab": {
          "base_uri": "https://localhost:8080/"
        },
        "outputId": "0836b4a3-a27e-49c5-e774-e72552b2ef65"
      },
      "outputs": [
        {
          "output_type": "stream",
          "name": "stdout",
          "text": [
            "Feeding forward all test data...\n",
            "\n",
            "Average loss: 24.31\n",
            "Accuracy (# of correct guesses): 1000.0 / 10000 ( 10.00 %)\n",
            "\n"
          ]
        }
      ],
      "source": [
        "def feed_forward_sample(sample, y):\n",
        "  \"\"\" Forward pass through the neural network.\n",
        "    Inputs:\n",
        "      sample: 1D numpy array. The input sample (an Fashion MNIST category).\n",
        "      label: An integer from 0 to 9.\n",
        "\n",
        "    Returns: the cross entropy loss, most likely class\n",
        "  \"\"\"\n",
        "  # Q2. Fill code here.\n",
        "  # ...\n",
        "  \n",
        "  a = sample.flatten()\n",
        "  Z1 = np.matmul(weights[0],a).reshape((32,1)) + biases[0]\n",
        "  A1 = np.array(sigmoid(Z1)).reshape((32,1))\n",
        "  Z2 = np.matmul(weights[1],A1).reshape((32,1)) + biases[1]\n",
        "  A2 = np.array(sigmoid(Z2)).reshape((32,1))\n",
        "  P = np.matmul(weights[2],A2).reshape(10,1)+biases[2]\n",
        "  yhat = softmax(P)\n",
        "  #print(predict_list.shape)\n",
        "\n",
        "  one_hot_guess = integer_to_one_hot(np.argmax(yhat),0)\n",
        "  loss = cross_entropy_loss(integer_to_one_hot(y,0), yhat)\n",
        "\n",
        "  return loss, one_hot_guess\n",
        "\n",
        "\n",
        "def feed_forward_dataset(x, y):\n",
        "  losses = np.empty(x.shape[0])\n",
        "  one_hot_guesses = np.empty((x.shape[0], 10))\n",
        "\n",
        "  # ...\n",
        "  # Q2. Fill code here to calculate losses, one_hot_guesses\n",
        "  # ...\n",
        "\n",
        "  for i in range(len(x)):\n",
        "    x_train = x[i].reshape(784,1)\n",
        "    #print(x_train.shape)\n",
        "    loss, one_hot_guess = feed_forward_sample(x_train, y[i])\n",
        "    losses[i] = loss\n",
        "    one_hot_guesses[i] = one_hot_guess\n",
        "\n",
        "  y_one_hot = np.zeros((y.size, 10))\n",
        "  y_one_hot[np.arange(y.size), y] = 1\n",
        "\n",
        "  correct_guesses = np.sum(y_one_hot * one_hot_guesses)\n",
        "  correct_guess_percent = format((correct_guesses / y.shape[0]) * 100, \".2f\")  \n",
        "\n",
        "  print(\"\\nAverage loss:\", np.round(np.average(losses), decimals=2))\n",
        "  print(\"Accuracy (# of correct guesses):\", correct_guesses, \"/\", y.shape[0], \"(\", correct_guess_percent, \"%)\")\n",
        "\n",
        "def feed_forward_training_data():\n",
        "  print(\"Feeding forward all training data...\")\n",
        "  feed_forward_dataset(x_train, y_train)\n",
        "  print(\"\")\n",
        "\n",
        "def feed_forward_test_data():\n",
        "  print(\"Feeding forward all test data...\")\n",
        "  feed_forward_dataset(x_test, y_test)\n",
        "  print(\"\")\n",
        "\n",
        "feed_forward_test_data()"
      ]
    },
    {
      "cell_type": "markdown",
      "metadata": {
        "id": "sSrlc2VLOi8L"
      },
      "source": [
        "OK, now we will implement the backward pass using backpropagation. We will keep it simple and just do training sample-by-sample (no minibatching, no randomness).\n",
        "\n",
        "Q3: Compute the gradient of all the weights and biases by backpropagating derivatives all the way from the output to the first layer. \n",
        "\n",
        "\n",
        "\n"
      ]
    },
    {
      "cell_type": "code",
      "execution_count": null,
      "metadata": {
        "id": "BLLEsVdcOgzi",
        "vscode": {
          "languageId": "python"
        }
      },
      "outputs": [],
      "source": [
        "def train_one_sample(sample, y, learning_rate=0.003):\n",
        "  a = sample.flatten()\n",
        "\n",
        "  # We will store each layer's activations to calculate gradient\n",
        "  activations = []\n",
        "\n",
        "  # Forward pass\n",
        "\n",
        "  # Q3. This should be the same as what you did in feed_forward_sample above.\n",
        "  # ...\n",
        "\n",
        "  # Backward pass\n",
        "\n",
        "  # Q3. Implement backpropagation by backward-stepping gradients through each layer.\n",
        "  # You may need to be careful to make sure your Jacobian matrices are the right shape.\n",
        "  # At the end, you should get two vectors: weight_gradients and bias_gradients.\n",
        "  # ...\n",
        "\n",
        "  # Update weights & biases based on your calculated gradient\n",
        "  weights[i] -= weight_gradients[i] * learning_rate\n",
        "  biases[i] -= bias_gradients[i].flatten() * learning_rate\n",
        "  "
      ]
    },
    {
      "cell_type": "markdown",
      "metadata": {
        "id": "6AXY27pOB9cW"
      },
      "source": [
        "Finally, train for 3 epochs by looping over the entire training dataset 3 times.\n",
        "\n",
        "Q4. Train your model for 3 epochs."
      ]
    },
    {
      "cell_type": "code",
      "execution_count": null,
      "metadata": {
        "id": "8Ygk05FcB-rL",
        "vscode": {
          "languageId": "python"
        },
        "colab": {
          "base_uri": "https://localhost:8080/"
        },
        "outputId": "ce98d802-f96f-4c55-aa34-27f0949c0262"
      },
      "outputs": [
        {
          "output_type": "stream",
          "name": "stdout",
          "text": [
            "Feeding forward all test data...\n",
            "\n",
            "Average loss: 24.31\n",
            "Accuracy (# of correct guesses): 1000.0 / 10000 ( 10.00 %)\n",
            "\n",
            "Training for one epoch over the training dataset...\n",
            "Finished training.\n",
            "\n",
            "Feeding forward all test data...\n",
            "\n",
            "Average loss: 24.31\n",
            "Accuracy (# of correct guesses): 1000.0 / 10000 ( 10.00 %)\n",
            "\n",
            "Training for one epoch over the training dataset...\n",
            "Finished training.\n",
            "\n",
            "Feeding forward all test data...\n",
            "\n",
            "Average loss: 24.31\n",
            "Accuracy (# of correct guesses): 1000.0 / 10000 ( 10.00 %)\n",
            "\n",
            "Training for one epoch over the training dataset...\n",
            "Finished training.\n",
            "\n",
            "Feeding forward all test data...\n",
            "\n",
            "Average loss: 24.31\n",
            "Accuracy (# of correct guesses): 1000.0 / 10000 ( 10.00 %)\n",
            "\n"
          ]
        }
      ],
      "source": [
        "def train_one_epoch(learning_rate=0.003):\n",
        "  print(\"Training for one epoch over the training dataset...\")\n",
        "  \n",
        "  # Q4. Write the training loop over the epoch here.\n",
        "  # ...\n",
        "\n",
        "  print(\"Finished training.\\n\")\n",
        "\n",
        "\n",
        "feed_forward_test_data()\n",
        "\n",
        "def test_and_train():\n",
        "  train_one_epoch()\n",
        "  feed_forward_test_data()\n",
        "\n",
        "for i in range(3): \n",
        "  test_and_train()"
      ]
    },
    {
      "cell_type": "markdown",
      "metadata": {
        "id": "IKzEn_lyCAIe"
      },
      "source": [
        "\n",
        "That's it! \n",
        "\n",
        "Your code is probably very time- and memory-inefficient; that's ok. There is a ton of optimization under the hood in professional deep learning frameworks which we won't get into.\n",
        "\n",
        "If everything is working well, you should be able to raise the accuracy from ~10% to ~70% accuracy after 3 epochs."
      ]
    }
  ],
  "metadata": {
    "colab": {
      "provenance": []
    },
    "kernelspec": {
      "display_name": "Python 3",
      "name": "python3"
    }
  },
  "nbformat": 4,
  "nbformat_minor": 0
}