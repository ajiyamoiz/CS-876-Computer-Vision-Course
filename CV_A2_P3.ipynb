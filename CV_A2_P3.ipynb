{
  "nbformat": 4,
  "nbformat_minor": 0,
  "metadata": {
    "colab": {
      "provenance": [],
      "authorship_tag": "ABX9TyOVyrw/PgOenGD05mY0uBOR"
    },
    "kernelspec": {
      "name": "python3",
      "display_name": "Python 3"
    },
    "language_info": {
      "name": "python"
    }
  },
  "cells": [
    {
      "cell_type": "markdown",
      "source": [
        "### Problem 3. [Challenge Problem: 20 points]\n",
        "The image below shows an artist’s sketch of Sultan Ahmet Mosque, also known as the Blue Mosque, in Istanbul."
      ],
      "metadata": {
        "id": "L_519Piquyy1"
      }
    },
    {
      "cell_type": "markdown",
      "source": [
        "a. Assuming that the artist has created a geometrically correct rendering, your task is to find the latitude / longitude coordinates on a map, as accurately as possible, of where the artist was\n",
        "standing when the drawing was created. Show your result on a map by drawing a triangle on the map that represents the viewpoint of this sketch."
      ],
      "metadata": {
        "id": "ePOLFGkVvBSz"
      }
    },
    {
      "cell_type": "code",
      "source": [],
      "metadata": {
        "id": "Zt8IaRNzvFSo"
      },
      "execution_count": null,
      "outputs": []
    }
  ]
}